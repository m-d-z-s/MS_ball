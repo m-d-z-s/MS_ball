{
 "cells": [
  {
   "cell_type": "code",
   "execution_count": 1,
   "outputs": [],
   "source": [
    "from math import cos, sin\n",
    "\n",
    "import matplotlib.pyplot as plt\n",
    "\n",
    "g = 9.8  # used for gravity constant"
   ],
   "metadata": {
    "collapsed": false,
    "ExecuteTime": {
     "end_time": "2023-11-24T18:55:26.614220300Z",
     "start_time": "2023-11-24T18:55:25.806873600Z"
    }
   },
   "id": "f88f86fcdaf23755"
  },
  {
   "cell_type": "code",
   "execution_count": 2,
   "id": "initial_id",
   "metadata": {
    "collapsed": true,
    "ExecuteTime": {
     "end_time": "2023-11-24T18:55:26.633467600Z",
     "start_time": "2023-11-24T18:55:26.618530100Z"
    }
   },
   "outputs": [],
   "source": [
    "v0 = 1.0\n",
    "dt = 0.00001\n",
    "x0 = 0.0\n",
    "y0 = 0.0\n",
    "alpha = 0.8\n",
    "step = 0.0  # y\n",
    "len_of_step = 0.15  # x\n",
    "\n",
    "x_step = 0.15\n",
    "y_step = -0.25\n",
    "n_step = 12\n",
    "x_coords = []\n",
    "y_coords = []\n",
    "x_coords.append(x0)\n",
    "y_coords.append(y0)"
   ]
  },
  {
   "cell_type": "code",
   "execution_count": 3,
   "outputs": [],
   "source": [
    "vx0 = v0 * cos(alpha)\n",
    "vy0 = v0 * sin(alpha)"
   ],
   "metadata": {
    "collapsed": false,
    "ExecuteTime": {
     "end_time": "2023-11-24T18:55:26.638183600Z",
     "start_time": "2023-11-24T18:55:26.631174500Z"
    }
   },
   "id": "12defa0c3f6e949d"
  },
  {
   "cell_type": "code",
   "execution_count": 4,
   "outputs": [],
   "source": [
    "# vyn = vyn-1 - g * dt\n",
    "# vxn = vxn-1\n",
    "# yn = yn-1 + vyn * dt\n",
    "# xn = xn-1 + vxn * dt"
   ],
   "metadata": {
    "collapsed": false,
    "ExecuteTime": {
     "end_time": "2023-11-24T18:55:26.658192600Z",
     "start_time": "2023-11-24T18:55:26.638183600Z"
    }
   },
   "id": "b2a3906ba4548a96"
  },
  {
   "cell_type": "code",
   "execution_count": 5,
   "outputs": [],
   "source": [
    "def get_next_state(previous_state: tuple) -> tuple:\n",
    "    x, y, vx, vy, len_of_step_x, step_y = previous_state\n",
    "    vy_next = vy - g * dt\n",
    "    if (x < len_of_step_x) & (y <= step_y):\n",
    "        vy_next *= -1\n",
    "    if (x > len_of_step_x) & (y >= step_y):\n",
    "        len_of_step_x += 0.15\n",
    "        step_y -= 0.25\n",
    "    y_next = y + vy_next * dt\n",
    "    x_next = x + vx * dt\n",
    "    return x_next, y_next, vx, vy_next, len_of_step_x, step_y"
   ],
   "metadata": {
    "collapsed": false,
    "ExecuteTime": {
     "end_time": "2023-11-24T18:55:26.670770700Z",
     "start_time": "2023-11-24T18:55:26.649085300Z"
    }
   },
   "id": "dbc5109b55e284b2"
  },
  {
   "cell_type": "code",
   "execution_count": 6,
   "outputs": [],
   "source": [
    "def get_trajectory() -> list:\n",
    "    trajectory = []\n",
    "    state = (x0, y0, vx0, vy0, len_of_step, step)\n",
    "    for i in range(250000):\n",
    "        trajectory.append(state)\n",
    "        state = get_next_state(state)\n",
    "    return trajectory\n",
    "\n",
    "\n",
    "trajectory = get_trajectory()"
   ],
   "metadata": {
    "collapsed": false,
    "ExecuteTime": {
     "end_time": "2023-11-24T18:55:26.875045500Z",
     "start_time": "2023-11-24T18:55:26.658192600Z"
    }
   },
   "id": "b7933b4b9a74cbd8"
  },
  {
   "cell_type": "code",
   "execution_count": 7,
   "outputs": [
    {
     "data": {
      "text/plain": "<Figure size 640x480 with 1 Axes>",
      "image/png": "[encoded data removed]"
     },
     "metadata": {},
     "output_type": "display_data"
    }
   ],
   "source": [
    "def plot_trajectory(trajectory: list):\n",
    "    x = [state[0] for state in trajectory]\n",
    "    y = [state[1] for state in trajectory]\n",
    "    plt.plot(x, y, color='red', linewidth=1)\n",
    "    plt.axhline(y=0, color='green', linestyle='-')\n",
    "    plt.xlabel('x')\n",
    "    plt.ylabel('y')\n",
    "\n",
    "    for i in range(n_step):\n",
    "        x_coords.append(x_coords[-1] + x_step)\n",
    "        y_coords.append(y_coords[-1])\n",
    "        x_coords.append(x_coords[-1])\n",
    "        y_coords.append(y_coords[-1] + y_step)\n",
    "    plt.plot(x_coords, y_coords, color='blue', linewidth=2)\n",
    "    plt.show()\n",
    "\n",
    "\n",
    "plot_trajectory(trajectory)\n",
    "\n"
   ],
   "metadata": {
    "collapsed": false,
    "ExecuteTime": {
     "end_time": "2023-11-24T18:55:27.296968400Z",
     "start_time": "2023-11-24T18:55:26.881909700Z"
    }
   },
   "id": "179d552313e58514"
  },
  {
   "cell_type": "code",
   "execution_count": 7,
   "outputs": [],
   "source": [],
   "metadata": {
    "collapsed": false,
    "ExecuteTime": {
     "end_time": "2023-11-24T18:55:27.296968400Z",
     "start_time": "2023-11-24T18:55:27.289950500Z"
    }
   },
   "id": "37458f2f158e220a"
  }
 ],
 "metadata": {
  "kernelspec": {
   "display_name": "Python 3",
   "language": "python",
   "name": "python3"
  },
  "language_info": {
   "codemirror_mode": {
    "name": "ipython",
    "version": 2
   },
   "file_extension": ".py",
   "mimetype": "text/x-python",
   "name": "python",
   "nbconvert_exporter": "python",
   "pygments_lexer": "ipython2",
   "version": "2.7.6"
  }
 },
 "nbformat": 4,
 "nbformat_minor": 5
}
